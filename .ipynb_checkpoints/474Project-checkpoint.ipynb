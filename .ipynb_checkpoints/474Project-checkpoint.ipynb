{
 "cells": [
  {
   "cell_type": "code",
   "execution_count": 2,
   "metadata": {},
   "outputs": [],
   "source": [
    "import json\n",
    "\n",
    "#Following imports used for stop word filtering\n",
    "from nltk.tokenize import sent_tokenize, word_tokenize\n",
    "from nltk.corpus import stopwords\n",
    "\n",
    "stopWords = set(stopwords.words('english'))\n",
    "\n",
    "#Loading and parsing the .json files\n",
    "dataset = open(\"review_dataset.json\", \"r\", encoding=\"utf8\")\n",
    "tabbed = open(\"review_tabbed.txt\", \"w\", encoding=\"utf8\")\n",
    "tabbed.write(\"Text\\tRating\\n\")\n",
    "line = dataset.readline()\n",
    "while(line):\n",
    "    loaded = json.loads(line)\n",
    "    text = loaded[\"text\"].replace('\\n', ' ').replace('\\n', ' ')\n",
    "    rating = str(loaded[\"stars\"])\n",
    "    tabbed.write(text + \"\\t\" + rating + \"\\n\")\n",
    "    line = dataset.readline()\n",
    "dataset.close()\n",
    "tabbed.close()"
   ]
  },
  {
   "cell_type": "code",
   "execution_count": null,
   "metadata": {},
   "outputs": [],
   "source": [
    "tabbed = open(\"review_tabbed.txt\", \"r\", encoding=\"utf8\")\n",
    "for x in range(5):\n",
    "    print(tabbed.readline())\n",
    "tabbed.close()"
   ]
  },
  {
   "cell_type": "code",
   "execution_count": null,
   "metadata": {},
   "outputs": [],
   "source": [
    "#Testing and running the stop words on tabbed\n",
    "\n"
   ]
  }
 ],
 "metadata": {
  "kernelspec": {
   "display_name": "Python 3",
   "language": "python",
   "name": "python3"
  },
  "language_info": {
   "codemirror_mode": {
    "name": "ipython",
    "version": 3
   },
   "file_extension": ".py",
   "mimetype": "text/x-python",
   "name": "python",
   "nbconvert_exporter": "python",
   "pygments_lexer": "ipython3",
   "version": "3.7.0"
  }
 },
 "nbformat": 4,
 "nbformat_minor": 2
}
