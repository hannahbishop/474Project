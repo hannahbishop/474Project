{
 "cells": [
  {
   "cell_type": "code",
   "execution_count": 1,
   "metadata": {},
   "outputs": [],
   "source": [
    "#This section will deal with importing the data from the .json files and processing it into pandas dataframes"
   ]
  },
  {
   "cell_type": "code",
   "execution_count": 2,
   "metadata": {},
   "outputs": [
    {
     "name": "stdout",
     "output_type": "stream",
     "text": [
      "                  business_id                 user_id  stars  \\\n",
      "0      ujmEBvifdJM6h6RLv4wQIg  hG7b0MtEbXx5QzbzE6C_VA    1.0   \n",
      "1      NZnhc2sEQy3RmzKTZnqtwQ  yXQM5uF2jS6es16SJzNHfg    5.0   \n",
      "2      WTqjgwHlXbSFevF32_DJVw  n6-Gk65cPZL6Uz8qRm3NYw    5.0   \n",
      "3      ikCg8xy5JIg_NGPx-MSIDA  dacAIZ6fTM6mqwW5uxkskg    5.0   \n",
      "4      b1b1eb3uo-w561D0ZfCEiQ  ssoyf2_x0EQMed6fgHeMyQ    1.0   \n",
      "...                       ...                     ...    ...   \n",
      "49995  RJdSwvgAd2TRdQw4iOsrag  Sd4PeeYUMjY65NpqocP7Fg    4.0   \n",
      "49996  coGEHGuUtnABP7KHgGlmRg  M_39TebBFzNZIuMAYFIhmw    5.0   \n",
      "49997  OHwVDLnpNApygH-tdR8UNg  PGx4HvY5joEeqXzam6tO7A    4.0   \n",
      "49998  cMAv53bpH7b32IYgQwCXLA  I3jL8PZnXP8gm7ous0P6fg    2.0   \n",
      "49999  MyDFeohoa_sZoQHycqO3wA  v5HZqSBEUJpL9pASSINg2g    5.0   \n",
      "\n",
      "                                                    text  \n",
      "0      Total bill for this horrible service? Over $8G...  \n",
      "1      I *adore* Travis at the Hard Rock's new Kelly ...  \n",
      "2      I have to say that this office really has it t...  \n",
      "3      Went in for a lunch. Steak sandwich was delici...  \n",
      "4      Today was my second out of three sessions I ha...  \n",
      "...                                                  ...  \n",
      "49995  Petit café sympa, peu de place assise. Bonne b...  \n",
      "49996  Absolutely delicious! The food was full of ama...  \n",
      "49997  I love this place!  They always have the cutes...  \n",
      "49998  i would understand a 2 hour wait for food if i...  \n",
      "49999  Best place to be for sports events. Service an...  \n",
      "\n",
      "[50000 rows x 4 columns]\n",
      "                  business_id                             name         city  \\\n",
      "0      1SWheh84yJXfytovILXOAQ       Arizona Biltmore Golf Club      Phoenix   \n",
      "1      QXAEGFB4oINsVuTFxEYKFQ       Emerald Chinese Restaurant  Mississauga   \n",
      "2      gnKjwL_1w79qoiV3IC_xQQ      Musashi Japanese Restaurant    Charlotte   \n",
      "3      xvX2CttrVhyG2z1dFg_0xw  Farmers Insurance - Paul Lorenz     Goodyear   \n",
      "4      HhyxOkGAM07SRYtlQ4wMFQ              Queen City Plumbing    Charlotte   \n",
      "...                       ...                              ...          ...   \n",
      "49995  y_9Nu0uJ-VgRbGZf_6g49w         Waiter's Choice Catering    Charlotte   \n",
      "49996  -pN44P-_PjRpcj4Rk2wMOg                        Cupcakery    Las Vegas   \n",
      "49997  Rs8LrwCBRhbn2SSMyHR9xA                    Dancing Queen    Las Vegas   \n",
      "49998  r0tkO_ekXqzy5SPwGVJ7mQ               Fox & Fiddle-Finch   North York   \n",
      "49999  nNs92xFnLb_G6f2QyMW9Qw                     KLUC FM 98.5    Las Vegas   \n",
      "\n",
      "      state  stars                                         categories  \\\n",
      "0        AZ    3.0                                  Golf, Active Life   \n",
      "1        ON    2.5  Specialty Food, Restaurants, Dim Sum, Imported...   \n",
      "2        NC    4.0                  Sushi Bars, Restaurants, Japanese   \n",
      "3        AZ    5.0                      Insurance, Financial Services   \n",
      "4        NC    4.0  Plumbing, Shopping, Local Services, Home Servi...   \n",
      "...     ...    ...                                                ...   \n",
      "49995    NC    5.0  Active Life, Professional Services, Caterers, ...   \n",
      "49996    NV    3.0                                     Desserts, Food   \n",
      "49997    NV    3.0              Arts & Entertainment, Performing Arts   \n",
      "49998    ON    3.5        Pubs, Burgers, Nightlife, Bars, Restaurants   \n",
      "49999    NV    4.0                         Mass Media, Radio Stations   \n",
      "\n",
      "       review_count  \n",
      "0                 5  \n",
      "1               128  \n",
      "2               170  \n",
      "3                 3  \n",
      "4                 4  \n",
      "...             ...  \n",
      "49995             6  \n",
      "49996            91  \n",
      "49997             8  \n",
      "49998            29  \n",
      "49999             4  \n",
      "\n",
      "[50000 rows x 7 columns]\n",
      "                      user_id  review_count\n",
      "0      l6BmjZMeQD3rDxWUbiAiow            95\n",
      "1      4XChL029mKr5hydo79Ljxg            33\n",
      "2      bc8C_eETBWL0olvFSJJd0w            16\n",
      "3      dD0gZpBctWGdWo9WlGuhlA            17\n",
      "4      MM4RJAeH6yuaN8oZDSt0RA           361\n",
      "...                       ...           ...\n",
      "49995  8FQeigAenhOs7k4-0smuxg            28\n",
      "49996  hWlp-0ox-tJzcx0ekvGNzQ             8\n",
      "49997  KvGSskbxcc2ZeootMz4GHw            56\n",
      "49998  wTMnUOaQhT-ZEWTYFvynkg             2\n",
      "49999  UUjvdquloiIdcOiyvrKlrA            77\n",
      "\n",
      "[50000 rows x 2 columns]\n"
     ]
    }
   ],
   "source": [
    "import json\n",
    "import pandas as pd\n",
    "import matplotlib.pyplot as plt\n",
    "import seaborn as sns\n",
    "import sklearn\n",
    "from sklearn.naive_bayes import MultinomialNB\n",
    "\n",
    "# open input file: \n",
    "reviewFile = open('review.json', encoding=\"utf8\")\n",
    "businessFile = open('business.json', encoding=\"utf8\")\n",
    "userFile = open('user.json', encoding=\"utf8\")\n",
    "\n",
    "# read the first 1 million entries\n",
    "# set to -1 to process everything\n",
    "stop = 50000\n",
    "\n",
    "allDataReview= list()\n",
    "for i, line in enumerate(reviewFile):\n",
    "    if i==stop:\n",
    "        break    \n",
    "    # converting the json into a dictionary\n",
    "    data = json.loads(line)\n",
    "    # extraction of the data we want\n",
    "    business_id = data['business_id']\n",
    "    user_id = data['user_id']\n",
    "    text = data['text']\n",
    "    stars = data['stars']\n",
    "    # adding data that we've collected\n",
    "    allDataReview.append([business_id, user_id, stars, text])\n",
    "\n",
    "allBusinessReview = list()\n",
    "for i, line in enumerate(businessFile):\n",
    "    if i==stop:\n",
    "        break\n",
    "    \n",
    "    data = json.loads(line)\n",
    "    \n",
    "    business_id = data['business_id']\n",
    "    name = data['name']\n",
    "    city = data['city']\n",
    "    state = data['state']\n",
    "    stars = data['stars']\n",
    "    categories = data['categories']   \n",
    "    review_count = data['review_count']\n",
    "\n",
    "    allBusinessReview.append([business_id, name, city, state, stars, categories, review_count])\n",
    "    \n",
    "allUserReview = list()\n",
    "for i, line in enumerate(userFile):\n",
    "    if i==stop:\n",
    "        break\n",
    "    \n",
    "    data = json.loads(line)\n",
    "    \n",
    "    user_id = data['user_id']\n",
    "    review_count = data['review_count']\n",
    "    \n",
    "    allUserReview.append([user_id, review_count])\n",
    "    \n",
    "# create the DataFrame\n",
    "dfReview = pd.DataFrame(allDataReview, columns=['business_id', 'user_id', 'stars','text'])\n",
    "dfBusiness = pd.DataFrame(allBusinessReview, columns=['business_id','name', 'city', 'state', 'stars', 'categories','review_count'])\n",
    "dfUser = pd.DataFrame(allUserReview, columns=['user_id', 'review_count'])\n",
    "print(dfReview)\n",
    "print(dfBusiness)\n",
    "print(dfUser)\n",
    "\n",
    "\n",
    "reviewFile.close()\n",
    "businessFile.close()\n",
    "userFile.close()"
   ]
  },
  {
   "cell_type": "code",
   "execution_count": 3,
   "metadata": {},
   "outputs": [
    {
     "name": "stderr",
     "output_type": "stream",
     "text": [
      "[nltk_data] Downloading package stopwords to\n",
      "[nltk_data]     C:\\Users\\ryanw\\AppData\\Roaming\\nltk_data...\n",
      "[nltk_data]   Package stopwords is already up-to-date!\n"
     ]
    }
   ],
   "source": [
    "#Removing the stopwords from the text reviews\n",
    "\n",
    "import nltk\n",
    "nltk.download('stopwords')\n",
    "from nltk.corpus import stopwords, wordnet\n",
    "from nltk.stem.wordnet import WordNetLemmatizer\n",
    "stop = stopwords.words('english')\n",
    "\n",
    "#first removing punctuation and other characters and making the entire text review lower case\n",
    "#dfReview['text'] = dfReview.text.str.replace(\"[^\\w\\s]\", \"\")\n",
    "#dfReview['text'] = dfReview.text.apply(lambda x: x.lower())\n",
    "#dfReview['text'] = dfReview.text.str.replace(\"‰Ûª\", \"''\")\n",
    "\n",
    "#dfReview['text'] = dfReview['text'].apply(lambda x: ' '.join([item for item in x.split() if item not in stop]))\n",
    "\n",
    "\n"
   ]
  },
  {
   "cell_type": "code",
   "execution_count": 4,
   "metadata": {},
   "outputs": [
    {
     "name": "stdout",
     "output_type": "stream",
     "text": [
      "                  business_id                 user_id  stars  \\\n",
      "0      ujmEBvifdJM6h6RLv4wQIg  hG7b0MtEbXx5QzbzE6C_VA    1.0   \n",
      "1      NZnhc2sEQy3RmzKTZnqtwQ  yXQM5uF2jS6es16SJzNHfg    5.0   \n",
      "2      WTqjgwHlXbSFevF32_DJVw  n6-Gk65cPZL6Uz8qRm3NYw    5.0   \n",
      "3      ikCg8xy5JIg_NGPx-MSIDA  dacAIZ6fTM6mqwW5uxkskg    5.0   \n",
      "4      b1b1eb3uo-w561D0ZfCEiQ  ssoyf2_x0EQMed6fgHeMyQ    1.0   \n",
      "...                       ...                     ...    ...   \n",
      "49995  RJdSwvgAd2TRdQw4iOsrag  Sd4PeeYUMjY65NpqocP7Fg    4.0   \n",
      "49996  coGEHGuUtnABP7KHgGlmRg  M_39TebBFzNZIuMAYFIhmw    5.0   \n",
      "49997  OHwVDLnpNApygH-tdR8UNg  PGx4HvY5joEeqXzam6tO7A    4.0   \n",
      "49998  cMAv53bpH7b32IYgQwCXLA  I3jL8PZnXP8gm7ous0P6fg    2.0   \n",
      "49999  MyDFeohoa_sZoQHycqO3wA  v5HZqSBEUJpL9pASSINg2g    5.0   \n",
      "\n",
      "                                                    text  \n",
      "0      Total bill for this horrible service? Over $8G...  \n",
      "1      I *adore* Travis at the Hard Rock's new Kelly ...  \n",
      "2      I have to say that this office really has it t...  \n",
      "3      Went in for a lunch. Steak sandwich was delici...  \n",
      "4      Today was my second out of three sessions I ha...  \n",
      "...                                                  ...  \n",
      "49995  Petit café sympa, peu de place assise. Bonne b...  \n",
      "49996  Absolutely delicious! The food was full of ama...  \n",
      "49997  I love this place!  They always have the cutes...  \n",
      "49998  i would understand a 2 hour wait for food if i...  \n",
      "49999  Best place to be for sports events. Service an...  \n",
      "\n",
      "[50000 rows x 4 columns]\n"
     ]
    }
   ],
   "source": [
    "#Successfully removed all the stop words from the text rows\n",
    "\n",
    "print(dfReview)"
   ]
  },
  {
   "cell_type": "code",
   "execution_count": 5,
   "metadata": {},
   "outputs": [],
   "source": [
    "#Running some visualizations to make sense of the data"
   ]
  },
  {
   "cell_type": "code",
   "execution_count": 6,
   "metadata": {},
   "outputs": [
    {
     "data": {
      "image/png": "[encoded data removed]",
      "text/plain": [
       "<Figure size 360x360 with 6 Axes>"
      ]
     },
     "metadata": {
      "needs_background": "light"
     },
     "output_type": "display_data"
    },
    {
     "data": {
      "image/png": "[encoded data removed]",
      "text/plain": [
       "<Figure size 432x288 with 1 Axes>"
      ]
     },
     "metadata": {
      "needs_background": "light"
     },
     "output_type": "display_data"
    },
    {
     "data": {
      "image/png": "[encoded data removed]",
      "text/plain": [
       "<Figure size 432x288 with 1 Axes>"
      ]
     },
     "metadata": {
      "needs_background": "light"
     },
     "output_type": "display_data"
    }
   ],
   "source": [
    "stars = dfBusiness.groupby('stars').mean()\n",
    "stars.corr()\n",
    "\n",
    "numeric_features = dfBusiness.loc[:, ['review_count', 'stars']]\n",
    "numeric_features_standardized = (numeric_features)/numeric_features.max()\n",
    "ax = sns.pairplot(numeric_features_standardized)\n",
    "plt.show()\n",
    "\n",
    "ax = sns.distplot(dfBusiness['stars'])\n",
    "plt.show()\n",
    "ax = sns.distplot(dfBusiness['review_count'])\n",
    "plt.show()"
   ]
  },
  {
   "cell_type": "code",
   "execution_count": 7,
   "metadata": {},
   "outputs": [],
   "source": [
    "#Some of the features I noticed was that the majority of businesses were getting 4 star reviews. Does the amount of reviews that a business gets affect it's overall score?"
   ]
  },
  {
   "cell_type": "code",
   "execution_count": 8,
   "metadata": {},
   "outputs": [
    {
     "name": "stdout",
     "output_type": "stream",
     "text": [
      "<class 'pandas.core.frame.DataFrame'>\n",
      "RangeIndex: 50000 entries, 0 to 49999\n",
      "Data columns (total 7 columns):\n",
      "business_id     50000 non-null object\n",
      "name            50000 non-null object\n",
      "city            50000 non-null object\n",
      "state           50000 non-null object\n",
      "stars           50000 non-null float64\n",
      "categories      49883 non-null object\n",
      "review_count    50000 non-null int64\n",
      "dtypes: float64(1), int64(1), object(5)\n",
      "memory usage: 1.7+ MB\n"
     ]
    }
   ],
   "source": [
    "dfBusiness.info()"
   ]
  },
  {
   "cell_type": "code",
   "execution_count": 9,
   "metadata": {},
   "outputs": [
    {
     "name": "stdout",
     "output_type": "stream",
     "text": [
      "<class 'pandas.core.frame.DataFrame'>\n",
      "RangeIndex: 50000 entries, 0 to 49999\n",
      "Data columns (total 7 columns):\n",
      "business_id     50000 non-null object\n",
      "name            50000 non-null object\n",
      "city            50000 non-null object\n",
      "state           50000 non-null object\n",
      "stars           50000 non-null float64\n",
      "categories      49883 non-null object\n",
      "review_count    50000 non-null int64\n",
      "dtypes: float64(1), int64(1), object(5)\n",
      "memory usage: 1.7+ MB\n",
      "<class 'pandas.core.frame.DataFrame'>\n",
      "RangeIndex: 50000 entries, 0 to 49999\n",
      "Data columns (total 4 columns):\n",
      "business_id    50000 non-null object\n",
      "user_id        50000 non-null object\n",
      "stars          50000 non-null float64\n",
      "text           50000 non-null object\n",
      "dtypes: float64(1), object(3)\n",
      "memory usage: 976.6+ KB\n"
     ]
    }
   ],
   "source": [
    "dfBusiness.info()\n",
    "dfReview.info()"
   ]
  },
  {
   "cell_type": "code",
   "execution_count": 10,
   "metadata": {
    "scrolled": true
   },
   "outputs": [
    {
     "data": {
      "text/plain": [
       "<seaborn.axisgrid.FacetGrid at 0x205e7f30>"
      ]
     },
     "execution_count": 10,
     "metadata": {},
     "output_type": "execute_result"
    },
    {
     "data": {
      "image/png": "[encoded data removed]",
      "text/plain": [
       "<Figure size 1080x216 with 5 Axes>"
      ]
     },
     "metadata": {
      "needs_background": "light"
     },
     "output_type": "display_data"
    }
   ],
   "source": [
    "dfReview['text length'] = dfReview['text'].apply(len)\n",
    "g = sns.FacetGrid(data=dfReview, col='stars')\n",
    "g.map(plt.hist, 'text length', bins=50)"
   ]
  },
  {
   "cell_type": "code",
   "execution_count": 11,
   "metadata": {},
   "outputs": [],
   "source": [
    "#The above graphs tell us that the longer the review is, the more likely that the review is going to be 5 stars"
   ]
  },
  {
   "cell_type": "code",
   "execution_count": 12,
   "metadata": {},
   "outputs": [],
   "source": [
    "#Need to do more pre processing on the dataframes\n",
    "dfBusiness = dfBusiness.dropna()\n",
    "dfBusiness['review_count']=dfBusiness['review_count'].fillna(0)\n",
    "dfBusiness['stars']=dfBusiness['stars'].fillna(0)"
   ]
  },
  {
   "cell_type": "code",
   "execution_count": 13,
   "metadata": {},
   "outputs": [
    {
     "name": "stdout",
     "output_type": "stream",
     "text": [
      "<class 'pandas.core.frame.DataFrame'>\n",
      "Int64Index: 49985 entries, 0 to 49984\n",
      "Data columns (total 11 columns):\n",
      "business_id     49985 non-null object\n",
      "name            49985 non-null object\n",
      "city            49985 non-null object\n",
      "state           49985 non-null object\n",
      "stars_bus       49985 non-null float64\n",
      "categories      49985 non-null object\n",
      "review_count    49985 non-null int64\n",
      "user_id         49985 non-null object\n",
      "stars_user      49985 non-null float64\n",
      "text            49985 non-null object\n",
      "text length     49985 non-null int64\n",
      "dtypes: float64(2), int64(2), object(7)\n",
      "memory usage: 3.2+ MB\n"
     ]
    }
   ],
   "source": [
    "dfRev_Bus = dfBusiness.merge(dfReview, on=('business_id'), suffixes=('_bus', '_user'))\n",
    "dfRev_Bus.info()"
   ]
  },
  {
   "cell_type": "code",
   "execution_count": 14,
   "metadata": {},
   "outputs": [],
   "source": [
    "#Now going to run multinomial to predict class based on text"
   ]
  },
  {
   "cell_type": "code",
   "execution_count": 15,
   "metadata": {},
   "outputs": [
    {
     "name": "stdout",
     "output_type": "stream",
     "text": [
      "<class 'pandas.core.frame.DataFrame'>\n",
      "Int64Index: 49985 entries, 0 to 49984\n",
      "Data columns (total 11 columns):\n",
      "business_id     49985 non-null object\n",
      "name            49985 non-null object\n",
      "city            49985 non-null object\n",
      "state           49985 non-null object\n",
      "stars_bus       49985 non-null float64\n",
      "categories      49985 non-null object\n",
      "review_count    49985 non-null int64\n",
      "user_id         49985 non-null object\n",
      "stars_user      49985 non-null float64\n",
      "text            49985 non-null object\n",
      "text length     49985 non-null int64\n",
      "dtypes: float64(2), int64(2), object(7)\n",
      "memory usage: 3.2+ MB\n"
     ]
    }
   ],
   "source": [
    "#First we need to round the stars as the classifier doesn't handle floats very well\n",
    "dfReview.stars = dfReview.stars.round()\n",
    "\n",
    "#Determing the amount of each of the counts\n",
    "dfRev_Bus[\"stars_bus\"].value_counts()\n",
    "dfRev_Bus[\"stars_user\"].value_counts()\n",
    "\n",
    "#Need to process the \n",
    "dfRev_Bus['review_count']=dfRev_Bus['review_count'].fillna(0)\n",
    "\n",
    "dfRev_Bus.info()"
   ]
  },
  {
   "cell_type": "code",
   "execution_count": 16,
   "metadata": {},
   "outputs": [
    {
     "name": "stdout",
     "output_type": "stream",
     "text": [
      "                  business_id                        name         city state  \\\n",
      "0      1SWheh84yJXfytovILXOAQ  Arizona Biltmore Golf Club      Phoenix    AZ   \n",
      "1      QXAEGFB4oINsVuTFxEYKFQ  Emerald Chinese Restaurant  Mississauga    ON   \n",
      "2      QXAEGFB4oINsVuTFxEYKFQ  Emerald Chinese Restaurant  Mississauga    ON   \n",
      "3      QXAEGFB4oINsVuTFxEYKFQ  Emerald Chinese Restaurant  Mississauga    ON   \n",
      "4      QXAEGFB4oINsVuTFxEYKFQ  Emerald Chinese Restaurant  Mississauga    ON   \n",
      "...                       ...                         ...          ...   ...   \n",
      "49980  imoyOrVqOWM6Sz-o_7HNZQ         Nellies In the Loop      Calgary    AB   \n",
      "49981  3HQPK2X7Pcqte_vscDy3Ng                Fuzz Wax Bar      Toronto    ON   \n",
      "49982  3HQPK2X7Pcqte_vscDy3Ng                Fuzz Wax Bar      Toronto    ON   \n",
      "49983  3HQPK2X7Pcqte_vscDy3Ng                Fuzz Wax Bar      Toronto    ON   \n",
      "49984  3HQPK2X7Pcqte_vscDy3Ng                Fuzz Wax Bar      Toronto    ON   \n",
      "\n",
      "       stars_bus                                         categories  \\\n",
      "0            3.0                                  Golf, Active Life   \n",
      "1            2.5  Specialty Food, Restaurants, Dim Sum, Imported...   \n",
      "2            2.5  Specialty Food, Restaurants, Dim Sum, Imported...   \n",
      "3            2.5  Specialty Food, Restaurants, Dim Sum, Imported...   \n",
      "4            2.5  Specialty Food, Restaurants, Dim Sum, Imported...   \n",
      "...          ...                                                ...   \n",
      "49980        2.5                    Restaurants, Breakfast & Brunch   \n",
      "49981        3.0  Beauty & Spas, Eyebrow Services, Waxing, Threa...   \n",
      "49982        3.0  Beauty & Spas, Eyebrow Services, Waxing, Threa...   \n",
      "49983        3.0  Beauty & Spas, Eyebrow Services, Waxing, Threa...   \n",
      "49984        3.0  Beauty & Spas, Eyebrow Services, Waxing, Threa...   \n",
      "\n",
      "       review_count                 user_id  stars_user  \\\n",
      "0          0.000473  WS95iyoiDkbLGeHtERa1-A         1.0   \n",
      "1          0.029593  2K62MJ4CJ19L8Tp5pRfjfQ         3.0   \n",
      "2          0.029593  A0kENtCCoVT3m7T35zb2Vg         3.0   \n",
      "3          0.029593  SuOLY03LW5ZcnynKhbTydA         3.0   \n",
      "4          0.029593  lymyUak6KNcNKoDbK87MiQ         1.0   \n",
      "...             ...                     ...         ...   \n",
      "49980      0.000473  ppATz6PAs8pGi4VcfIrUSw         2.0   \n",
      "49981      0.002131  z-EXVXlocRmapIYc-X2HHQ         5.0   \n",
      "49982      0.002131  BaiRGqUGe1ChCqka_UjHmg         5.0   \n",
      "49983      0.002131  cgPO7QmFGVdX2LsLssQOxw         4.0   \n",
      "49984      0.002131  R12tWVItMjm5tr8SWN9Cmw         5.0   \n",
      "\n",
      "                                                    text  text length  \n",
      "0      Don't go here if you expect consistent or reas...     0.040408  \n",
      "1      My girlfriend and I went for dinner at Emerald...     0.294859  \n",
      "2      We've always been there on a Sunday so we were...     0.087618  \n",
      "3      ***No automatic doors, not baby friendly!*** I...     0.050210  \n",
      "4      Horrible service,\\nI went there tonight with m...     0.222444  \n",
      "...                                                  ...          ...  \n",
      "49980  Being a huge lover of every other Nellies in t...     0.221844  \n",
      "49981  I got the sexy bikini wax - cost $39.55 taxes ...     0.054611  \n",
      "49982  Everyone is so friendly and knows how to perfe...     0.130826  \n",
      "49983  I got my full legs done. No complaints on my e...     0.038008  \n",
      "49984  I've been coming here for just about a year an...     0.046209  \n",
      "\n",
      "[49985 rows x 11 columns]\n"
     ]
    }
   ],
   "source": [
    "#Making another dataframe for just the business id, the review counts, and the text\n",
    "\n",
    "\n",
    "\n",
    "dfBusRevText = ['review_count','text length']\n",
    "dfRev_Bus[dfBusRevText] = dfRev_Bus[dfBusRevText].apply(lambda x: (x - x.min()) / (x.max() - x.min()))\n",
    "\n",
    "print (dfRev_Bus)"
   ]
  },
  {
   "cell_type": "code",
   "execution_count": 17,
   "metadata": {},
   "outputs": [
    {
     "name": "stdout",
     "output_type": "stream",
     "text": [
      "                  business_id                        name  stars_bus  \\\n",
      "0      1SWheh84yJXfytovILXOAQ  Arizona Biltmore Golf Club        3.0   \n",
      "1      QXAEGFB4oINsVuTFxEYKFQ  Emerald Chinese Restaurant        2.5   \n",
      "2      QXAEGFB4oINsVuTFxEYKFQ  Emerald Chinese Restaurant        2.5   \n",
      "3      QXAEGFB4oINsVuTFxEYKFQ  Emerald Chinese Restaurant        2.5   \n",
      "4      QXAEGFB4oINsVuTFxEYKFQ  Emerald Chinese Restaurant        2.5   \n",
      "...                       ...                         ...        ...   \n",
      "49980  imoyOrVqOWM6Sz-o_7HNZQ         Nellies In the Loop        2.5   \n",
      "49981  3HQPK2X7Pcqte_vscDy3Ng                Fuzz Wax Bar        3.0   \n",
      "49982  3HQPK2X7Pcqte_vscDy3Ng                Fuzz Wax Bar        3.0   \n",
      "49983  3HQPK2X7Pcqte_vscDy3Ng                Fuzz Wax Bar        3.0   \n",
      "49984  3HQPK2X7Pcqte_vscDy3Ng                Fuzz Wax Bar        3.0   \n",
      "\n",
      "                                              categories  review_count  \\\n",
      "0                                      Golf, Active Life      0.000473   \n",
      "1      Specialty Food, Restaurants, Dim Sum, Imported...      0.029593   \n",
      "2      Specialty Food, Restaurants, Dim Sum, Imported...      0.029593   \n",
      "3      Specialty Food, Restaurants, Dim Sum, Imported...      0.029593   \n",
      "4      Specialty Food, Restaurants, Dim Sum, Imported...      0.029593   \n",
      "...                                                  ...           ...   \n",
      "49980                    Restaurants, Breakfast & Brunch      0.000473   \n",
      "49981  Beauty & Spas, Eyebrow Services, Waxing, Threa...      0.002131   \n",
      "49982  Beauty & Spas, Eyebrow Services, Waxing, Threa...      0.002131   \n",
      "49983  Beauty & Spas, Eyebrow Services, Waxing, Threa...      0.002131   \n",
      "49984  Beauty & Spas, Eyebrow Services, Waxing, Threa...      0.002131   \n",
      "\n",
      "                      user_id  stars_user  \\\n",
      "0      WS95iyoiDkbLGeHtERa1-A         1.0   \n",
      "1      2K62MJ4CJ19L8Tp5pRfjfQ         3.0   \n",
      "2      A0kENtCCoVT3m7T35zb2Vg         3.0   \n",
      "3      SuOLY03LW5ZcnynKhbTydA         3.0   \n",
      "4      lymyUak6KNcNKoDbK87MiQ         1.0   \n",
      "...                       ...         ...   \n",
      "49980  ppATz6PAs8pGi4VcfIrUSw         2.0   \n",
      "49981  z-EXVXlocRmapIYc-X2HHQ         5.0   \n",
      "49982  BaiRGqUGe1ChCqka_UjHmg         5.0   \n",
      "49983  cgPO7QmFGVdX2LsLssQOxw         4.0   \n",
      "49984  R12tWVItMjm5tr8SWN9Cmw         5.0   \n",
      "\n",
      "                                                    text  text length  \n",
      "0      Don't go here if you expect consistent or reas...     0.040408  \n",
      "1      My girlfriend and I went for dinner at Emerald...     0.294859  \n",
      "2      We've always been there on a Sunday so we were...     0.087618  \n",
      "3      ***No automatic doors, not baby friendly!*** I...     0.050210  \n",
      "4      Horrible service,\\nI went there tonight with m...     0.222444  \n",
      "...                                                  ...          ...  \n",
      "49980  Being a huge lover of every other Nellies in t...     0.221844  \n",
      "49981  I got the sexy bikini wax - cost $39.55 taxes ...     0.054611  \n",
      "49982  Everyone is so friendly and knows how to perfe...     0.130826  \n",
      "49983  I got my full legs done. No complaints on my e...     0.038008  \n",
      "49984  I've been coming here for just about a year an...     0.046209  \n",
      "\n",
      "[49985 rows x 9 columns]\n"
     ]
    }
   ],
   "source": [
    "dfRev_Bus = dfRev_Bus.drop(columns=\"city\")\n",
    "dfRev_Bus = dfRev_Bus.drop(columns=\"state\")\n",
    "print (dfRev_Bus)"
   ]
  },
  {
   "cell_type": "code",
   "execution_count": 18,
   "metadata": {},
   "outputs": [
    {
     "name": "stdout",
     "output_type": "stream",
     "text": [
      "<class 'pandas.core.frame.DataFrame'>\n",
      "Int64Index: 49985 entries, 0 to 49984\n",
      "Data columns (total 2 columns):\n",
      "review_count    49985 non-null float64\n",
      "text length     49985 non-null float64\n",
      "dtypes: float64(2)\n",
      "memory usage: 1.1 MB\n",
      "<class 'pandas.core.frame.DataFrame'>\n",
      "Int64Index: 49985 entries, 0 to 49984\n",
      "Data columns (total 1 columns):\n",
      "stars_bus    49985 non-null float64\n",
      "dtypes: float64(1)\n",
      "memory usage: 781.0 KB\n"
     ]
    }
   ],
   "source": [
    "#Starting to get a training data set\n",
    "X = dfRev_Bus[['review_count', 'text length']]\n",
    "y = dfRev_Bus[['stars_bus']]\n",
    "\n",
    "X.info()\n",
    "y.info()"
   ]
  },
  {
   "cell_type": "code",
   "execution_count": 19,
   "metadata": {},
   "outputs": [
    {
     "name": "stdout",
     "output_type": "stream",
     "text": [
      "       review_count  text length\n",
      "0          0.000473     0.040408\n",
      "1          0.029593     0.294859\n",
      "2          0.029593     0.087618\n",
      "3          0.029593     0.050210\n",
      "4          0.029593     0.222444\n",
      "...             ...          ...\n",
      "49980      0.000473     0.221844\n",
      "49981      0.002131     0.054611\n",
      "49982      0.002131     0.130826\n",
      "49983      0.002131     0.038008\n",
      "49984      0.002131     0.046209\n",
      "\n",
      "[49985 rows x 2 columns]\n"
     ]
    }
   ],
   "source": [
    "print(X)"
   ]
  },
  {
   "cell_type": "code",
   "execution_count": 20,
   "metadata": {},
   "outputs": [
    {
     "name": "stdout",
     "output_type": "stream",
     "text": [
      "       stars_bus\n",
      "0            3.0\n",
      "1            2.5\n",
      "2            2.5\n",
      "3            2.5\n",
      "4            2.5\n",
      "...          ...\n",
      "49980        2.5\n",
      "49981        3.0\n",
      "49982        3.0\n",
      "49983        3.0\n",
      "49984        3.0\n",
      "\n",
      "[49985 rows x 1 columns]\n"
     ]
    }
   ],
   "source": [
    "print(y)"
   ]
  },
  {
   "cell_type": "code",
   "execution_count": 21,
   "metadata": {},
   "outputs": [
    {
     "name": "stdout",
     "output_type": "stream",
     "text": [
      "       review_count  text length\n",
      "39089      0.003314     0.019004\n",
      "10198      0.036222     0.301460\n",
      "18194      0.218987     0.161632\n",
      "18723      0.008523     0.087818\n",
      "21178      0.009233     0.047810\n",
      "...             ...          ...\n",
      "43723      0.010180     0.169634\n",
      "32511      0.079782     0.028806\n",
      "5192       1.000000     0.095619\n",
      "12172      0.026989     0.051810\n",
      "33003      0.021544     0.360072\n",
      "\n",
      "[37488 rows x 2 columns]\n"
     ]
    }
   ],
   "source": [
    "from sklearn.model_selection import train_test_split\n",
    "\n",
    "# Split X and y into X_\n",
    "trainX, testX, trainY, testY = train_test_split(X, y, test_size=0.25, random_state=1)\n",
    "\n",
    "print (trainX)"
   ]
  },
  {
   "cell_type": "code",
   "execution_count": 22,
   "metadata": {},
   "outputs": [
    {
     "name": "stdout",
     "output_type": "stream",
     "text": [
      "Expected star rating for the business using linear regression 3.7644141700286298\n"
     ]
    },
    {
     "data": {
      "text/plain": [
       "0.7319906699420747"
      ]
     },
     "execution_count": 22,
     "metadata": {},
     "output_type": "execute_result"
    }
   ],
   "source": [
    "from sklearn.linear_model import LinearRegression\n",
    "\n",
    "regression_model = LinearRegression()\n",
    "regression_model.fit(trainX, trainY)\n",
    "   \n",
    "intercept = regression_model.intercept_[0]\n",
    "print(\"Expected star rating for the business using linear regression {}\".format(intercept))\n",
    "\n",
    "regression_model.score(testX, testY)\n",
    "\n",
    "from sklearn.metrics import mean_squared_error\n",
    "starPredict = regression_model.predict(testX)\n",
    "regression_model_mse = mean_squared_error(starPredict, testY)\n",
    "regression_model_mse\n",
    "\n",
    "import math\n",
    "math.sqrt(regression_model_mse)"
   ]
  },
  {
   "cell_type": "code",
   "execution_count": 36,
   "metadata": {},
   "outputs": [],
   "source": [
    "import numpy as np\n",
    "from sklearn import metrics, svm\n",
    "from sklearn.linear_model import LogisticRegression\n",
    "from sklearn import preprocessing\n",
    "from sklearn import utils\n",
    "import string\n"
   ]
  },
  {
   "cell_type": "code",
   "execution_count": 39,
   "metadata": {},
   "outputs": [],
   "source": [
    "from nltk.corpus import wordnet\n",
    "from collections import Counter\n",
    "def get_pos( word ):\n",
    "    w_synsets = wordnet.synsets(word)\n",
    "\n",
    "    pos_counts = Counter()\n",
    "    pos_counts[\"n\"] = len(  [ item for item in w_synsets if item.pos()==\"n\"]  )\n",
    "    pos_counts[\"v\"] = len(  [ item for item in w_synsets if item.pos()==\"v\"]  )\n",
    "    pos_counts[\"a\"] = len(  [ item for item in w_synsets if item.pos()==\"a\"]  )\n",
    "    pos_counts[\"r\"] = len(  [ item for item in w_synsets if item.pos()==\"r\"]  )\n",
    "    \n",
    "    most_common_pos_list = pos_counts.most_common(4)\n",
    "    return most_common_pos_list[0][0]"
   ]
  },
  {
   "cell_type": "code",
   "execution_count": 40,
   "metadata": {},
   "outputs": [],
   "source": [
    "# function to perform text preprocessing on the review text\n",
    "# This function was taken from https://github.com/AmiGandhi/Yelp-User-Rating-Prediction-using-NLP-and-Naive-Bayes-algorithm-and-Restaurant-Recommender/blob/master/User_Rating_Prediction_using_NLP_and_Restaurant_Recommendation%20-%20Copy.ipynb\n",
    "\n",
    "def preprocessing(text):\n",
    "    \n",
    "    # tokenize into words\n",
    "    tokens = [word for sent in nltk.sent_tokenize(text) for word in nltk.word_tokenize(sent)]\n",
    "\n",
    "    # lower capitalization\n",
    "    tokens = [word.lower() for word in tokens]\n",
    "    \n",
    "    # remove stopwords\n",
    "    stop = stopwords.words('english')\n",
    "    tokens = [token for token in tokens if token not in stop]\n",
    "    \n",
    "    # remove punctuations\n",
    "    tokens = [char for char in tokens if char not in string.punctuation]\n",
    "\n",
    "    # lemmatize\n",
    "    lmtzr = WordNetLemmatizer()\n",
    "    tokens = [lmtzr.lemmatize(x, get_pos(x)) for x in tokens]\n",
    "    #tokens = [lmtzr.lemmatize(word, pos='v') for word in tokens]\n",
    "    preprocessed_text= ' '.join(tokens)\n",
    "\n",
    "    return preprocessed_text"
   ]
  },
  {
   "cell_type": "code",
   "execution_count": 41,
   "metadata": {},
   "outputs": [],
   "source": [
    "from sklearn.feature_extraction.text import CountVectorizer\n",
    "bow_transformer = CountVectorizer(analyzer=preprocessing).fit(X)"
   ]
  },
  {
   "cell_type": "code",
   "execution_count": 45,
   "metadata": {},
   "outputs": [
    {
     "name": "stdout",
     "output_type": "stream",
     "text": [
      "n't go expect consistent reasonable hour drive range 's clear goal owner course hammer expense without concern customer\n"
     ]
    }
   ],
   "source": [
    "val = dfRev_Bus['text'].values[0]\n",
    "\n",
    "print(preprocessing(val))"
   ]
  },
  {
   "cell_type": "code",
   "execution_count": 48,
   "metadata": {},
   "outputs": [],
   "source": [
    "X = dfRev_Bus['text']\n",
    "y = dfRev_Bus['stars_user']"
   ]
  },
  {
   "cell_type": "code",
   "execution_count": 49,
   "metadata": {},
   "outputs": [],
   "source": [
    "from sklearn.feature_extraction.text import CountVectorizer\n",
    "bow_transformer = CountVectorizer(analyzer=preprocessing).fit(X)"
   ]
  },
  {
   "cell_type": "code",
   "execution_count": 50,
   "metadata": {},
   "outputs": [
    {
     "data": {
      "text/plain": [
       "720"
      ]
     },
     "execution_count": 50,
     "metadata": {},
     "output_type": "execute_result"
    }
   ],
   "source": [
    "len(bow_transformer.vocabulary_)"
   ]
  },
  {
   "cell_type": "code",
   "execution_count": 51,
   "metadata": {},
   "outputs": [],
   "source": [
    "X = bow_transformer.transform(X)"
   ]
  },
  {
   "cell_type": "code",
   "execution_count": 52,
   "metadata": {},
   "outputs": [
    {
     "name": "stdout",
     "output_type": "stream",
     "text": [
      "Shape of Sparse Matrix:  (49985, 720)\n",
      "Amount of Non-Zero occurrences:  1319264\n",
      "Density: 3.6657219388038635\n"
     ]
    }
   ],
   "source": [
    "print('Shape of Sparse Matrix: ', X.shape)\n",
    "print('Amount of Non-Zero occurrences: ', X.nnz)\n",
    "\n",
    "# Percentage of non-zero values\n",
    "density = (100.0 * X.nnz / (X.shape[0] * X.shape[1]))\n",
    "print('Density: {}'.format((density)))\n",
    "\n"
   ]
  },
  {
   "cell_type": "code",
   "execution_count": 53,
   "metadata": {},
   "outputs": [
    {
     "name": "stdout",
     "output_type": "stream",
     "text": [
      "Number transactions X_train dataset:  (34989, 720)\n",
      "Number transactions y_train dataset:  (34989,)\n",
      "Number transactions X_test dataset:  (14996, 720)\n",
      "Number transactions y_test dataset:  (14996,)\n"
     ]
    }
   ],
   "source": [
    "from imblearn.over_sampling import SMOTE\n",
    "from sklearn.model_selection import train_test_split\n",
    "\n",
    "X_train, X_test, y_train, y_test = train_test_split(X, y, test_size=0.3, random_state=101)\n",
    "print(\"Number transactions X_train dataset: \", X_train.shape)\n",
    "print(\"Number transactions y_train dataset: \", y_train.shape)\n",
    "print(\"Number transactions X_test dataset: \", X_test.shape)\n",
    "print(\"Number transactions y_test dataset: \", y_test.shape)\n",
    "\n"
   ]
  },
  {
   "cell_type": "code",
   "execution_count": 55,
   "metadata": {},
   "outputs": [
    {
     "data": {
      "text/plain": [
       "MultinomialNB(alpha=1.0, class_prior=None, fit_prior=True)"
      ]
     },
     "execution_count": 55,
     "metadata": {},
     "output_type": "execute_result"
    }
   ],
   "source": [
    "# Let us now train our model using Multinomial Naive Bais Algorithm\n",
    "from sklearn.naive_bayes import MultinomialNB\n",
    "\n",
    "nb = MultinomialNB()\n",
    "nb.fit(X_train, y_train)"
   ]
  },
  {
   "cell_type": "code",
   "execution_count": 56,
   "metadata": {},
   "outputs": [],
   "source": [
    "# Predict on the test set\n",
    "preds = nb.predict(X_test)"
   ]
  },
  {
   "cell_type": "code",
   "execution_count": 57,
   "metadata": {},
   "outputs": [
    {
     "name": "stdout",
     "output_type": "stream",
     "text": [
      "[[ 898   41   22   98 1104]\n",
      " [ 350   33   32  118  684]\n",
      " [ 344   37   46  225  969]\n",
      " [ 409   62   59  472 2299]\n",
      " [ 693   60   50  364 5527]]\n",
      "\n",
      "\n",
      "              precision    recall  f1-score   support\n",
      "\n",
      "         1.0       0.33      0.42      0.37      2163\n",
      "         2.0       0.14      0.03      0.05      1217\n",
      "         3.0       0.22      0.03      0.05      1621\n",
      "         4.0       0.37      0.14      0.21      3301\n",
      "         5.0       0.52      0.83      0.64      6694\n",
      "\n",
      "    accuracy                           0.47     14996\n",
      "   macro avg       0.32      0.29      0.26     14996\n",
      "weighted avg       0.40      0.47      0.39     14996\n",
      "\n",
      "0.4651907175246732\n"
     ]
    }
   ],
   "source": [
    "# Performance evaluation by confusion matrix and classification report\n",
    "from sklearn.metrics import confusion_matrix, classification_report\n",
    "\n",
    "print(confusion_matrix(y_test, preds))\n",
    "print('\\n')\n",
    "print(classification_report(y_test, preds))\n",
    "print(metrics.accuracy_score(y_test, preds))"
   ]
  },
  {
   "cell_type": "code",
   "execution_count": 64,
   "metadata": {},
   "outputs": [
    {
     "name": "stdout",
     "output_type": "stream",
     "text": [
      "              business_id                        name  stars_bus  \\\n",
      "0  QXAEGFB4oINsVuTFxEYKFQ  Emerald Chinese Restaurant        2.5   \n",
      "\n",
      "                                          categories  review_count  \\\n",
      "0  Specialty Food, Restaurants, Dim Sum, Imported...      0.029593   \n",
      "\n",
      "                  user_id  stars_user  \\\n",
      "0  paYZw5wsS25IzzBZtijB8A         4.0   \n",
      "\n",
      "                                                text  text length  Predicted  \n",
      "0  Because we are in Mississauga, I think this pl...     0.081016        5.0  \n"
     ]
    }
   ],
   "source": [
    "review_verdict = dfRev_Bus['text'][10]\n",
    "review_verdict_transformed = bow_transformer.transform([review_verdict])\n",
    "predicted_rating = nb.predict(review_verdict_transformed)[0]\n",
    "check_df = pd.DataFrame(columns=dfRev_Bus.columns)\n",
    "check_df.loc[0] = dfRev_Bus.iloc[10]\n",
    "check_df['Predicted'] = predicted_rating\n",
    "\n",
    "print (check_df)"
   ]
  },
  {
   "cell_type": "code",
   "execution_count": null,
   "metadata": {},
   "outputs": [],
   "source": []
  }
 ],
 "metadata": {
  "kernelspec": {
   "display_name": "Python 3",
   "language": "python",
   "name": "python3"
  },
  "language_info": {
   "codemirror_mode": {
    "name": "ipython",
    "version": 3
   },
   "file_extension": ".py",
   "mimetype": "text/x-python",
   "name": "python",
   "nbconvert_exporter": "python",
   "pygments_lexer": "ipython3",
   "version": "3.7.5"
  }
 },
 "nbformat": 4,
 "nbformat_minor": 2
}
