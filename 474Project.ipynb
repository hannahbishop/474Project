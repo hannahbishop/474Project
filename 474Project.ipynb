{
 "cells": [
  {
   "cell_type": "code",
   "execution_count": null,
   "metadata": {},
   "outputs": [],
   "source": [
    "import json\n",
    "\n",
    "dataset = open(\"review_dataset.json\", \"r\", encoding=\"utf8\")\n",
    "tabbed = open(\"review_tabbed.txt\", \"w\", encoding=\"utf8\")\n",
    "tabbed.write(\"Text\\tRating\\n\")\n",
    "line = dataset.readline()\n",
    "while(line):\n",
    "    loaded = json.loads(line)\n",
    "    text = loaded[\"text\"].replace('\\n', ' ').replace('\\n', ' ')\n",
    "    rating = str(loaded[\"stars\"])\n",
    "    tabbed.write(text + \"\\t\" + rating + \"\\n\")\n",
    "    line = dataset.readline()\n",
    "dataset.close()\n",
    "tabbed.close()"
   ]
  },
  {
   "cell_type": "code",
   "execution_count": 2,
   "metadata": {},
   "outputs": [
    {
     "name": "stdout",
     "output_type": "stream",
     "text": [
      "Text\tRating\n",
      "\n",
      "Total bill for this horrible service? Over $8Gs. These crooks actually had the nerve to charge us $69 for 3 pills. I checked online the pills can be had for 19 cents EACH! Avoid Hospital ERs at all costs.\t1.0\n",
      "\n",
      "I *adore* Travis at the Hard Rock's new Kelly Cardenas Salon!  I'm always a fan of a great blowout and no stranger to the chains that offer this service; however, Travis has taken the flawless blowout to a whole new level!  \n",
      "\n",
      "\n",
      "\n",
      "Travis's greets you with his perfectly green swoosh in his otherwise perfectly styled black hair and a Vegas-worthy rockstar outfit.  Next comes the most relaxing and incredible shampoo -- where you get a full head message that could cure even the very worst migraine in minutes --- and the scented shampoo room.  Travis has freakishly strong fingers (in a good way) and use the perfect amount of pressure.  That was superb!  Then starts the glorious blowout... where not one, not two, but THREE people were involved in doing the best round-brush action my hair has ever seen.  The team of stylists clearly gets along extremely well, as it's evident from the way they talk to and help one another that it's really genuine and not some corporate requirement.  It was so much fun to be there! \n",
      "\n"
     ]
    }
   ],
   "source": [
    "tabbed = open(\"review_tabbed.txt\", \"r\", encoding=\"utf8\")\n",
    "for x in range(5):\n",
    "    print(tabbed.readline())"
   ]
  },
  {
   "cell_type": "code",
   "execution_count": null,
   "metadata": {},
   "outputs": [],
   "source": []
  }
 ],
 "metadata": {
  "kernelspec": {
   "display_name": "Python 3",
   "language": "python",
   "name": "python3"
  },
  "language_info": {
   "codemirror_mode": {
    "name": "ipython",
    "version": 3
   },
   "file_extension": ".py",
   "mimetype": "text/x-python",
   "name": "python",
   "nbconvert_exporter": "python",
   "pygments_lexer": "ipython3",
   "version": "3.6.4"
  }
 },
 "nbformat": 4,
 "nbformat_minor": 2
}
